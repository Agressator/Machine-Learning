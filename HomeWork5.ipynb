{
 "cells": [
  {
   "cell_type": "markdown",
   "metadata": {},
   "source": [
    "# Домашнее задание №5\n",
    "\n",
    "Data Set Information:\n",
    "\n",
    "The dataset was acquired and annotated by professional physicians at 'Hospital Universitario de Caracas'.\n",
    "The subjective judgments (target variables) were originally done in an ordinal manner (poor, fair, good, excellent) and was discretized in two classes (bad, good).\n",
    "Images were randomly sampled from the original colposcopic sequences (videos).\n",
    "The original images and the manual segmentations are included in the 'images' directory.\n",
    "The dataset has three modalities (i.e. Hinselmann, Green, Schiller).\n",
    "The target variables are expert::X (X in 0,...,5) and consensus.\n",
    "cervix_area: image area with cervix.\n",
    "\n",
    "os_area: image area with external os.\n",
    "\n",
    "walls_area: image area with vaginal walls.\n",
    "\n",
    "speculum_area: image area with the speculum.\n",
    "\n",
    "artifacts_area: image area with artifacts.\n",
    "\n",
    "cervix_artifacts_area: cervix area with the artifacts.\n",
    "\n",
    "os_artifacts_area: external os area with the artifacts.\n",
    "\n",
    "walls_artifacts_area: vaginal walls with the artifacts.\n",
    "\n",
    "speculum_artifacts_area: speculum area with the artifacts.\n",
    "\n",
    "cervix_specularities_area: cervix area with the specular reflections.\n",
    "\n",
    "os_specularities_area: external os area with the specular reflections.\n",
    "\n",
    "walls_specularities_area: vaginal walls area with the specular reflections.\n",
    "\n",
    "speculum_specularities_area: speculum area with the specular reflections.\n",
    "\n",
    "specularities_area: total area with specular reflections.\n",
    "\n",
    "area_h_max_diff: maximum area differences between the four cervix quadrants.\n",
    "\n",
    "rgb_cervix_r_mean: average color information in the cervix (R channel).\n",
    "\n",
    "rgb_cervix_r_std: stddev color information in the cervix (R channel).\n",
    "\n",
    "rgb_cervix_r_mean_minus_std: (avg - stddev) color information in the cervix (R channel).\n",
    "\n",
    "rgb_cervix_r_mean_plus_std: (avg + stddev) information in the cervix (R channel).\n",
    "\n",
    "rgb_cervix_g_mean: average color information in the cervix (G channel).\n",
    "\n",
    "rgb_cervix_g_std: stddev color information in the cervix (G channel).\n",
    "\n",
    "rgb_cervix_g_mean_minus_std: (avg - stddev) color information in the cervix (G channel).\n",
    "\n",
    "rgb_cervix_g_mean_plus_std: (avg + stddev) color information in the cervix (G channel).\n",
    "\n",
    "rgb_cervix_b_mean: average color information in the cervix (B channel).\n",
    "\n",
    "rgb_cervix_b_std: stddev color information in the cervix (B channel).\n",
    "\n",
    "rgb_cervix_b_mean_minus_std: (avg - stddev) color information in the cervix (B channel).\n",
    "\n",
    "rgb_cervix_b_mean_plus_std: (avg + stddev) color information in the cervix (B channel).\n",
    "\n",
    "rgb_total_r_mean: average color information in the image (B channel).\n",
    "\n",
    "rgb_total_r_std: stddev color information in the image (R channel).\n",
    "\n",
    "rgb_total_r_mean_minus_std: (avg - stddev) color information in the image (R channel).\n",
    "\n",
    "rgb_total_r_mean_plus_std: (avg + stddev) color information in the image (R channel).\n",
    "\n",
    "rgb_total_g_mean: average color information in the image (G channel).\n",
    "\n",
    "rgb_total_g_std: stddev color information in the image (G channel).\n",
    "\n",
    "rgb_total_g_mean_minus_std: (avg - stddev) color information in the image (G channel).\n",
    "\n",
    "rgb_total_g_mean_plus_std: (avg + stddev) color information in the image (G channel).\n",
    "\n",
    "rgb_total_b_mean: average color information in the image (B channel).\n",
    "\n",
    "rgb_total_b_std: stddev color information in the image (B channel).\n",
    "\n",
    "rgb_total_b_mean_minus_std: (avg - stddev) color information in the image (B channel).\n",
    "\n",
    "rgb_total_b_mean_plus_std: (avg + stddev) color information in the image (B channel).\n",
    "\n",
    "hsv_cervix_h_mean: average color information in the cervix (H channel).\n",
    "\n",
    "hsv_cervix_h_std: stddev color information in the cervix (H channel).\n",
    "\n",
    "hsv_cervix_s_mean: average color information in the cervix (S channel).\n",
    "\n",
    "hsv_cervix_s_std: stddev color information in the cervix (S channel).\n",
    "\n",
    "hsv_cervix_v_mean: average color information in the cervix (V channel).\n",
    "\n",
    "hsv_cervix_v_std: stddev color information in the cervix (V channel).\n",
    "\n",
    "hsv_total_h_mean: average color information in the image (H channel).\n",
    "\n",
    "hsv_total_h_std: stddev color information in the image (H channel).\n",
    "\n",
    "hsv_total_s_mean: average color information in the image (S channel).\n",
    "\n",
    "hsv_total_s_std: stddev color information in the image (S channel).\n",
    "\n",
    "hsv_total_v_mean: average color information in the image (V channel).\n",
    "\n",
    "hsv_total_v_std: stddev color information in the image (V channel).\n",
    "\n",
    "fit_cervix_hull_rate: Coverage of the cervix convex hull by the cervix.\n",
    "\n",
    "fit_cervix_hull_total: Image coverage of the cervix convex hull.\n",
    "\n",
    "fit_cervix_bbox_rate: Coverage of the cervix bounding box by the cervix.\n",
    "\n",
    "fit_cervix_bbox_total: Image coverage of the cervix bounding box.\n",
    "\n",
    "fit_circle_rate: Coverage of the cervix circle by the cervix.\n",
    "\n",
    "fit_circle_total: Image coverage of the cervix circle.\n",
    "\n",
    "fit_ellipse_rate: Coverage of the cervix ellipse by the cervix.\n",
    "\n",
    "fit_ellipse_total: Image coverage of the cervix ellipse.\n",
    "\n",
    "fit_ellipse_goodness: Goodness of the ellipse fitting.\n",
    "\n",
    "dist_to_center_cervix: Distance between the cervix center and the image center.\n",
    "\n",
    "dist_to_center_os: Distance between the cervical os center and the image center.\n",
    "\n",
    "experts::0: subjective assessment of the Expert 0 (target variable). experts::1: subjective assessment of the Expert 1 (target variable). experts::2: subjective assessment of the Expert 2 (target variable). experts::3: subjective assessment of the Expert 3 (target variable). experts::4: subjective assessment of the Expert 4 (target variable). experts::5: subjective assessment of the Expert 5 (target variable). consensus: subjective assessment of the consensus (target variable)"
   ]
  },
  {
   "cell_type": "code",
   "execution_count": 1,
   "metadata": {
    "collapsed": true
   },
   "outputs": [],
   "source": [
    "import numpy as np\n",
    "import matplotlib.pyplot as plt\n",
    "import pandas as pd\n",
    "%matplotlib inline"
   ]
  },
  {
   "cell_type": "markdown",
   "metadata": {},
   "source": [
    "Считывание данных"
   ]
  },
  {
   "cell_type": "code",
   "execution_count": 2,
   "metadata": {},
   "outputs": [],
   "source": [
    "data = pd.read_csv('green.csv', sep = ',', engine = 'python')"
   ]
  },
  {
   "cell_type": "markdown",
   "metadata": {
    "collapsed": true
   },
   "source": [
    "Задаем x и y"
   ]
  },
  {
   "cell_type": "code",
   "execution_count": 3,
   "metadata": {
    "collapsed": true
   },
   "outputs": [],
   "source": [
    "X = data.drop(('consensus'), axis = 1)\n",
    "y = data['consensus']\n",
    "\n",
    "from sklearn import preprocessing\n",
    "le = preprocessing.LabelEncoder()\n",
    "le.fit(y.unique())\n",
    "y_tr = le.transform(y)"
   ]
  },
  {
   "cell_type": "markdown",
   "metadata": {},
   "source": [
    "Разобьем выборку на тестовую и обучаемую"
   ]
  },
  {
   "cell_type": "code",
   "execution_count": 5,
   "metadata": {
    "collapsed": true
   },
   "outputs": [],
   "source": [
    "from sklearn.model_selection import train_test_split\n",
    "X_train, X_test, y_train, y_test = train_test_split(X, y, test_size = 0.33, random_state = 7)\n",
    "N_test, _ = X_test.shape"
   ]
  },
  {
   "cell_type": "markdown",
   "metadata": {},
   "source": [
    "# Random Forest"
   ]
  },
  {
   "cell_type": "code",
   "execution_count": 6,
   "metadata": {
    "collapsed": true
   },
   "outputs": [],
   "source": [
    "from sklearn.ensemble import RandomForestClassifier"
   ]
  },
  {
   "cell_type": "markdown",
   "metadata": {},
   "source": [
    "Объявим массивы ошибок"
   ]
  },
  {
   "cell_type": "code",
   "execution_count": 32,
   "metadata": {
    "collapsed": true
   },
   "outputs": [],
   "source": [
    "test_err_RF = []\n",
    "train_err_RF = []\n",
    "oob_err_RF = []"
   ]
  },
  {
   "cell_type": "code",
   "execution_count": 33,
   "metadata": {},
   "outputs": [],
   "source": [
    "import warnings\n",
    "warnings.filterwarnings('ignore')\n",
    "\n",
    "n_estimators = np.arange(1, 50, 1)\n",
    "\n",
    "for count in n_estimators:\n",
    "    rf_model = RandomForestClassifier(n_estimators = count, warm_start = True, oob_score = True)\n",
    "    rf_model.fit(X_train, y_train)\n",
    "    \n",
    "    y_train_pred = rf_model.predict(X_train)\n",
    "    y_test_pred = rf_model.predict(X_test)\n",
    "    \n",
    "    train_err_RF.append(np.mean(y_train != y_train_pred))\n",
    "    test_err_RF.append(np.mean(y_test != y_test_pred))\n",
    "    \n",
    "    oob_err_RF.append(1 - rf_model.oob_score_)"
   ]
  },
  {
   "cell_type": "code",
   "execution_count": 34,
   "metadata": {},
   "outputs": [
    {
     "name": "stdout",
     "output_type": "stream",
     "text": [
      "0.0 0.151515151515\n"
     ]
    }
   ],
   "source": [
    "print(np.mean(y_train != y_train_pred), np.mean(y_test != y_test_pred))"
   ]
  },
  {
   "cell_type": "code",
   "execution_count": 35,
   "metadata": {},
   "outputs": [
    {
     "data": {
      "image/png": "[encoded data removed]",
      "text/plain": [
       "<matplotlib.figure.Figure at 0x26b5f3132e8>"
      ]
     },
     "metadata": {},
     "output_type": "display_data"
    }
   ],
   "source": [
    "plt.plot(n_estimators, train_err_RF, 'b-o', label = 'train')\n",
    "plt.plot(n_estimators, test_err_RF, 'r-o', label = 'test')\n",
    "plt.plot(n_estimators, oob_err_RF, 'g-o', label = 'oob')\n",
    "plt.title('Error vs. n_estimators')\n",
    "plt.xlabel('n_estimators')\n",
    "plt.ylabel('error')\n",
    "plt.legend()\n",
    "pass"
   ]
  },
  {
   "cell_type": "markdown",
   "metadata": {},
   "source": [
    "Минимальные значения ошибок на обучающей и тестовой выборке"
   ]
  },
  {
   "cell_type": "code",
   "execution_count": 36,
   "metadata": {},
   "outputs": [
    {
     "name": "stdout",
     "output_type": "stream",
     "text": [
      "0.0 0.0909090909091\n"
     ]
    }
   ],
   "source": [
    "min_train_err = np.min(train_err_RF)\n",
    "min_test_err_RF = np.min(test_err_RF)\n",
    "print(min_train_err, min_test_err_RF)"
   ]
  },
  {
   "cell_type": "markdown",
   "metadata": {},
   "source": [
    "Недообучения не наблюдается, т. к. на обучающей выборке ошибка примерно равна нулю. Переобучение так же не наблюдается из- за отсутвия значительного роста ошибки, да и среднее ее значение не так велико"
   ]
  },
  {
   "cell_type": "code",
   "execution_count": 39,
   "metadata": {},
   "outputs": [
    {
     "name": "stdout",
     "output_type": "stream",
     "text": [
      "8\n"
     ]
    }
   ],
   "source": [
    "for i in range(len(test_err_RF)):\n",
    "    if((test_err_RF[i] == min_test_err_RF) and (train_err_RF[i] == min_train_err)):\n",
    "        n_estimator_opt = n_estimators[i]\n",
    "        break\n",
    "print(n_estimator_opt)"
   ]
  },
  {
   "cell_type": "markdown",
   "metadata": {},
   "source": [
    "Для достижения подобного результата достаточно 8 деревьев "
   ]
  },
  {
   "cell_type": "markdown",
   "metadata": {},
   "source": [
    "# Extremely Random Trees"
   ]
  },
  {
   "cell_type": "code",
   "execution_count": 40,
   "metadata": {
    "collapsed": true
   },
   "outputs": [],
   "source": [
    "from sklearn.ensemble import ExtraTreesClassifier"
   ]
  },
  {
   "cell_type": "markdown",
   "metadata": {},
   "source": [
    "Объявляем массивы ошибок"
   ]
  },
  {
   "cell_type": "code",
   "execution_count": 41,
   "metadata": {
    "collapsed": true
   },
   "outputs": [],
   "source": [
    "test_err_ERT = []\n",
    "train_err_ERT = []\n",
    "oob_err_ERT = []"
   ]
  },
  {
   "cell_type": "code",
   "execution_count": 43,
   "metadata": {},
   "outputs": [],
   "source": [
    "import warnings\n",
    "warnings.filterwarnings('ignore')\n",
    "\n",
    "for count in n_estimators:\n",
    "    ERT_model = ExtraTreesClassifier(n_estimators=count, bootstrap=True, oob_score = True)\n",
    "    ERT_model.fit(X_train, y_train)\n",
    "    \n",
    "    y_train_pred = ERT_model.predict(X_train)\n",
    "    y_test_pred = ERT_model.predict(X_test)\n",
    "    \n",
    "    train_err_ERT.append(np.mean(y_train != y_train_pred))\n",
    "    test_err_ERT.append(np.mean(y_test != y_test_pred))\n",
    "    \n",
    "    oob_err_ERT.append(1 - ERT_model.oob_score_)"
   ]
  },
  {
   "cell_type": "code",
   "execution_count": 45,
   "metadata": {},
   "outputs": [
    {
     "data": {
      "image/png": "[encoded data removed]",
      "text/plain": [
       "<matplotlib.figure.Figure at 0x26b5f5357b8>"
      ]
     },
     "metadata": {},
     "output_type": "display_data"
    }
   ],
   "source": [
    "plt.plot(n_estimators, train_err_ERT, 'b-o', label = 'train')\n",
    "plt.plot(n_estimators, test_err_ERT, 'r-o', label = 'test')\n",
    "plt.plot(n_estimators, oob_err_ERT, 'g-o', label = 'oob')\n",
    "plt.title('Error vs. n_estimators')\n",
    "plt.xlabel('n_estimators')\n",
    "plt.ylabel('error')\n",
    "plt.legend()\n",
    "pass"
   ]
  },
  {
   "cell_type": "markdown",
   "metadata": {},
   "source": [
    "Минимальные значения ошибок на обучающей и тестовой выборке"
   ]
  },
  {
   "cell_type": "code",
   "execution_count": 46,
   "metadata": {},
   "outputs": [
    {
     "name": "stdout",
     "output_type": "stream",
     "text": [
      "0.0 0.030303030303\n"
     ]
    }
   ],
   "source": [
    "min_train_err = np.min(train_err_ERT)\n",
    "min_test_err_ERT = np.min(test_err_ERT)\n",
    "print(min_train_err, min_test_err_ERT)"
   ]
  },
  {
   "cell_type": "markdown",
   "metadata": {},
   "source": [
    "Недообучение не наблюдается, так же как и переобучение из- за малого значения ошибки на выборках и отсутствия значительного роста ошибки"
   ]
  },
  {
   "cell_type": "code",
   "execution_count": 49,
   "metadata": {},
   "outputs": [
    {
     "name": "stdout",
     "output_type": "stream",
     "text": [
      "31\n"
     ]
    }
   ],
   "source": [
    "for i in range(len(test_err_ERT)):\n",
    "    if((test_err_ERT[i] == min_test_err_ERT) and (train_err_ERT[i] == min_train_err)):\n",
    "        n_estimator_opt = n_estimators[i]\n",
    "        break\n",
    "print(n_estimator_opt)"
   ]
  },
  {
   "cell_type": "markdown",
   "metadata": {},
   "source": [
    "Для достижения оптимального значения достаточно 31 дерева"
   ]
  },
  {
   "cell_type": "markdown",
   "metadata": {},
   "source": [
    "# AdaBoost"
   ]
  },
  {
   "cell_type": "code",
   "execution_count": 50,
   "metadata": {
    "collapsed": true
   },
   "outputs": [],
   "source": [
    "from sklearn.ensemble import AdaBoostClassifier"
   ]
  },
  {
   "cell_type": "markdown",
   "metadata": {},
   "source": [
    "Объявляем массивы ошибок "
   ]
  },
  {
   "cell_type": "code",
   "execution_count": 51,
   "metadata": {
    "collapsed": true
   },
   "outputs": [],
   "source": [
    "test_err_AB = []\n",
    "train_err_AB = []\n",
    "oob_err_AB = []"
   ]
  },
  {
   "cell_type": "code",
   "execution_count": 52,
   "metadata": {
    "collapsed": true
   },
   "outputs": [],
   "source": [
    "import warnings\n",
    "warnings.filterwarnings('ignore')\n",
    "\n",
    "for count in n_estimators:\n",
    "    AB_model = AdaBoostClassifier(n_estimators = count)\n",
    "    AB_model.fit(X_train, y_train)\n",
    "    \n",
    "    y_train_pred = AB_model.predict(X_train)\n",
    "    y_test_pred = AB_model.predict(X_test)\n",
    "    \n",
    "    train_err_AB.append(np.mean(y_train != y_train_pred))\n",
    "    test_err_AB.append(np.mean(y_test != y_test_pred))"
   ]
  },
  {
   "cell_type": "code",
   "execution_count": 53,
   "metadata": {},
   "outputs": [
    {
     "data": {
      "image/png": "[encoded data removed]",
      "text/plain": [
       "<matplotlib.figure.Figure at 0x26b5f4ca5f8>"
      ]
     },
     "metadata": {},
     "output_type": "display_data"
    }
   ],
   "source": [
    "plt.plot(n_estimators, train_err_AB, 'b-o', label = 'train')\n",
    "plt.plot(n_estimators, test_err_AB, 'r-o', label = 'test')\n",
    "plt.title('Error vs. n_estimators')\n",
    "plt.xlabel('n_estimators')\n",
    "plt.ylabel('error')\n",
    "plt.legend()\n",
    "pass"
   ]
  },
  {
   "cell_type": "markdown",
   "metadata": {},
   "source": [
    "Минимальные значения ошибок на обучающей и тестовой выборке"
   ]
  },
  {
   "cell_type": "code",
   "execution_count": 54,
   "metadata": {},
   "outputs": [
    {
     "name": "stdout",
     "output_type": "stream",
     "text": [
      "0.0 0.0606060606061\n"
     ]
    }
   ],
   "source": [
    "min_train_err = np.min(train_err_AB)\n",
    "min_test_err_AB = np.min(test_err_AB)\n",
    "print(min_train_err, min_test_err_AB)"
   ]
  },
  {
   "cell_type": "markdown",
   "metadata": {},
   "source": [
    "Недообучение не наблюдается, поскольку величина ошибки на обучаемой выборке примерно равна нулю. Ошибка на тестовой выборке ведет себя скачкообразно, но переобучение не наблюдается"
   ]
  },
  {
   "cell_type": "code",
   "execution_count": 55,
   "metadata": {},
   "outputs": [
    {
     "name": "stdout",
     "output_type": "stream",
     "text": [
      "4\n"
     ]
    }
   ],
   "source": [
    "for i in range(len(test_err_AB)):\n",
    "    if((test_err_AB[i] == min_test_err_AB) and (train_err_AB[i] == min_train_err)):\n",
    "        n_estimator_opt = n_estimators[i]\n",
    "        break\n",
    "print(n_estimator_opt)"
   ]
  },
  {
   "cell_type": "markdown",
   "metadata": {},
   "source": [
    "Подобного результата можно достичь при количестве деревьев равном 4"
   ]
  },
  {
   "cell_type": "markdown",
   "metadata": {},
   "source": [
    "# Gradient Boosted Trees"
   ]
  },
  {
   "cell_type": "code",
   "execution_count": 56,
   "metadata": {
    "collapsed": true
   },
   "outputs": [],
   "source": [
    "from sklearn.ensemble import GradientBoostingClassifier"
   ]
  },
  {
   "cell_type": "markdown",
   "metadata": {},
   "source": [
    " Объявляем массивы ошибок"
   ]
  },
  {
   "cell_type": "code",
   "execution_count": 57,
   "metadata": {
    "collapsed": true
   },
   "outputs": [],
   "source": [
    "test_err_GBT = []\n",
    "train_err_GBT = []\n",
    "oob_err_GBT = []"
   ]
  },
  {
   "cell_type": "code",
   "execution_count": 58,
   "metadata": {
    "collapsed": true
   },
   "outputs": [],
   "source": [
    "for count in n_estimators:\n",
    "    GBT_model = GradientBoostingClassifier(n_estimators=count)\n",
    "    GBT_model.fit(X_train, y_train)\n",
    "    \n",
    "    y_train_pred = GBT_model.predict(X_train)\n",
    "    y_test_pred = GBT_model.predict(X_test)\n",
    "    \n",
    "    train_err_GBT.append(np.mean(y_train != y_train_pred))\n",
    "    test_err_GBT.append(np.mean(y_test != y_test_pred))"
   ]
  },
  {
   "cell_type": "code",
   "execution_count": 60,
   "metadata": {},
   "outputs": [
    {
     "data": {
      "image/png": "[encoded data removed]",
      "text/plain": [
       "<matplotlib.figure.Figure at 0x26b5f40a400>"
      ]
     },
     "metadata": {},
     "output_type": "display_data"
    }
   ],
   "source": [
    "plt.plot(n_estimators, train_err_GBT, 'b-o', label = 'train')\n",
    "plt.plot(n_estimators, test_err_GBT, 'r-o', label = 'test')\n",
    "plt.title('Error vs. n_estimators')\n",
    "plt.xlabel('n_estimators')\n",
    "plt.ylabel('error')\n",
    "plt.legend()\n",
    "pass"
   ]
  },
  {
   "cell_type": "markdown",
   "metadata": {},
   "source": [
    "Минимальные значения ошибок на обучающей и тестовой выборке"
   ]
  },
  {
   "cell_type": "code",
   "execution_count": 61,
   "metadata": {},
   "outputs": [
    {
     "name": "stdout",
     "output_type": "stream",
     "text": [
      "0.0 0.121212121212\n"
     ]
    }
   ],
   "source": [
    "min_train_err = np.min(train_err_GBT)\n",
    "min_test_err_GBT = np.min(test_err_GBT)\n",
    "print(min_train_err, min_test_err_GBT)"
   ]
  },
  {
   "cell_type": "markdown",
   "metadata": {},
   "source": [
    "Недообучения как и в предыдущих случаях не наблюдается из- за нулевой ошибки на обучающей выборке. Ошибка на тестовой выборке снижается только после 20 деревьев и становится стабильной, не достигая нулевого значения. С такими показателями врят ли можно говорить о переобучении."
   ]
  },
  {
   "cell_type": "code",
   "execution_count": 62,
   "metadata": {},
   "outputs": [
    {
     "name": "stdout",
     "output_type": "stream",
     "text": [
      "20\n"
     ]
    }
   ],
   "source": [
    "for i in range(len(test_err_GBT)):\n",
    "    if((test_err_GBT[i] == min_test_err_GBT) and (train_err_GBT[i] == min_train_err)):\n",
    "        n_estimator_opt = n_estimators[i]\n",
    "        break\n",
    "print(n_estimator_opt)"
   ]
  },
  {
   "cell_type": "markdown",
   "metadata": {},
   "source": [
    "Сравним графики ошибки на тестовой выборке"
   ]
  },
  {
   "cell_type": "code",
   "execution_count": 66,
   "metadata": {},
   "outputs": [
    {
     "data": {
      "image/png": "[encoded data removed]",
      "text/plain": [
       "<matplotlib.figure.Figure at 0x26b5f631e10>"
      ]
     },
     "metadata": {},
     "output_type": "display_data"
    }
   ],
   "source": [
    "plt.plot(n_estimators, test_err_RF, 'r-o', label = 'RF')\n",
    "plt.plot(n_estimators, test_err_ERT, 'b-o', label = 'ERT')\n",
    "plt.plot(n_estimators, test_err_AB, 'g-o', label = 'AB')\n",
    "plt.plot(n_estimators, test_err_GBT, 'y-o', label = 'GBT')\n",
    "plt.title('Error vs. Count of trees for test')\n",
    "plt.xlabel('Count of trees')\n",
    "plt.ylabel('Error')\n",
    "plt.legend()\n",
    "pass"
   ]
  },
  {
   "cell_type": "code",
   "execution_count": 65,
   "metadata": {},
   "outputs": [
    {
     "name": "stdout",
     "output_type": "stream",
     "text": [
      "0.0909090909091 0.030303030303 0.0606060606061 0.121212121212\n"
     ]
    }
   ],
   "source": [
    "print(min_test_err_RF, min_test_err_ERT, min_test_err_AB, min_test_err_GBT)"
   ]
  },
  {
   "cell_type": "markdown",
   "metadata": {},
   "source": [
    "На основе полученных результатов нельзя выделить какой- то самый хороший алгоритм. Extremely Random Trees имеет самую малую ошибку, но довольно не стабилен исходя из графика. Gradient Boosted Trees напротив обретает стабильную ошибку после 20 деревьев, но эта ошибка довольно таки велика."
   ]
  },
  {
   "cell_type": "code",
   "execution_count": null,
   "metadata": {
    "collapsed": true
   },
   "outputs": [],
   "source": []
  }
 ],
 "metadata": {
  "kernelspec": {
   "display_name": "Python 3",
   "language": "python",
   "name": "python3"
  },
  "language_info": {
   "codemirror_mode": {
    "name": "ipython",
    "version": 3
   },
   "file_extension": ".py",
   "mimetype": "text/x-python",
   "name": "python",
   "nbconvert_exporter": "python",
   "pygments_lexer": "ipython3",
   "version": "3.6.2"
  }
 },
 "nbformat": 4,
 "nbformat_minor": 2
}
