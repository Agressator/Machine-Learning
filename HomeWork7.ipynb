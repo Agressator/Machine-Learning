{
 "cells": [
  {
   "cell_type": "markdown",
   "metadata": {},
   "source": [
    "# ДЗ. Применение PCA\n",
    "\n",
    "Data Set Information:\n",
    "\n",
    "* The dataset was acquired and annotated by professional physicians at 'Hospital Universitario de Caracas'. \n",
    "* The subjective judgments (target variables) were originally done in an ordinal manner (poor, fair, good, excellent) and was discretized in two classes (bad, good). \n",
    "* Images were randomly sampled from the original colposcopic sequences (videos). \n",
    "* The original images and the manual segmentations are included in the 'images' directory. \n",
    "* The dataset has three modalities (i.e. Hinselmann, Green, Schiller). \n",
    "* The target variables are expert::X (X in 0,...,5) and consensus.\n",
    "\n",
    "cervix_area: image area with cervix.\n",
    "\n",
    "os_area: image area with external os. \n",
    "\n",
    "walls_area: image area with vaginal walls. \n",
    "\n",
    "speculum_area: image area with the speculum.\n",
    "\n",
    "artifacts_area: image area with artifacts.\n",
    "\n",
    "cervix_artifacts_area: cervix area with the artifacts. \n",
    "\n",
    "os_artifacts_area: external os area with the artifacts.\n",
    "\n",
    "walls_artifacts_area: vaginal walls with the artifacts.\n",
    "\n",
    "speculum_artifacts_area: speculum area with the artifacts. \n",
    "\n",
    "cervix_specularities_area: cervix area with the specular reflections.\n",
    "\n",
    "os_specularities_area: external os area with the specular reflections. \n",
    "\n",
    "walls_specularities_area: vaginal walls area with the specular reflections. \n",
    "\n",
    "speculum_specularities_area: speculum area with the specular reflections. \n",
    "\n",
    "specularities_area: total area with specular reflections. \n",
    "\n",
    "area_h_max_diff: maximum area differences between the four cervix quadrants.\n",
    "\n",
    "rgb_cervix_r_mean: average color information in the cervix (R channel). \n",
    "\n",
    "rgb_cervix_r_std: stddev color information in the cervix (R channel). \n",
    "\n",
    "rgb_cervix_r_mean_minus_std: (avg - stddev) color information in the cervix (R channel). \n",
    "\n",
    "rgb_cervix_r_mean_plus_std: (avg + stddev) information in the cervix (R channel). \n",
    "\n",
    "rgb_cervix_g_mean: average color information in the cervix (G channel). \n",
    "\n",
    "rgb_cervix_g_std: stddev color information in the cervix (G channel). \n",
    "\n",
    "rgb_cervix_g_mean_minus_std: (avg - stddev) color information in the cervix (G channel).\n",
    "\n",
    "rgb_cervix_g_mean_plus_std: (avg + stddev) color information in the cervix (G channel). \n",
    "\n",
    "rgb_cervix_b_mean: average color information in the cervix (B channel). \n",
    "\n",
    "rgb_cervix_b_std: stddev color information in the cervix (B channel). \n",
    "\n",
    "rgb_cervix_b_mean_minus_std: (avg - stddev) color information in the cervix (B channel). \n",
    "\n",
    "rgb_cervix_b_mean_plus_std: (avg + stddev) color information in the cervix (B channel). \n",
    "\n",
    "rgb_total_r_mean: average color information in the image (B channel). \n",
    "\n",
    "rgb_total_r_std: stddev color information in the image (R channel). \n",
    "\n",
    "rgb_total_r_mean_minus_std: (avg - stddev) color information in the image (R channel). \n",
    "\n",
    "rgb_total_r_mean_plus_std: (avg + stddev) color information in the image (R channel). \n",
    "\n",
    "rgb_total_g_mean: average color information in the image (G channel). \n",
    "\n",
    "rgb_total_g_std: stddev color information in the image (G channel). \n",
    "\n",
    "rgb_total_g_mean_minus_std: (avg - stddev) color information in the image (G channel). \n",
    "\n",
    "rgb_total_g_mean_plus_std: (avg + stddev) color information in the image (G channel). \n",
    "\n",
    "rgb_total_b_mean: average color information in the image (B channel). \n",
    "\n",
    "rgb_total_b_std: stddev color information in the image (B channel). \n",
    "\n",
    "rgb_total_b_mean_minus_std: (avg - stddev) color information in the image (B channel). \n",
    "\n",
    "rgb_total_b_mean_plus_std: (avg + stddev) color information in the image (B channel). \n",
    "\n",
    "hsv_cervix_h_mean: average color information in the cervix (H channel). \n",
    "\n",
    "hsv_cervix_h_std: stddev color information in the cervix (H channel). \n",
    "\n",
    "hsv_cervix_s_mean: average color information in the cervix (S channel). \n",
    "\n",
    "hsv_cervix_s_std: stddev color information in the cervix (S channel). \n",
    "\n",
    "hsv_cervix_v_mean: average color information in the cervix (V channel). \n",
    "\n",
    "hsv_cervix_v_std: stddev color information in the cervix (V channel). \n",
    "\n",
    "hsv_total_h_mean: average color information in the image (H channel). \n",
    "\n",
    "hsv_total_h_std: stddev color information in the image (H channel). \n",
    "\n",
    "hsv_total_s_mean: average color information in the image (S channel). \n",
    "\n",
    "hsv_total_s_std: stddev color information in the image (S channel). \n",
    "\n",
    "hsv_total_v_mean: average color information in the image (V channel). \n",
    "\n",
    "hsv_total_v_std: stddev color information in the image (V channel). \n",
    "\n",
    "fit_cervix_hull_rate: Coverage of the cervix convex hull by the cervix. \n",
    "\n",
    "fit_cervix_hull_total: Image coverage of the cervix convex hull. \n",
    "\n",
    "fit_cervix_bbox_rate: Coverage of the cervix bounding box by the cervix. \n",
    "\n",
    "fit_cervix_bbox_total: Image coverage of the cervix bounding box. \n",
    "\n",
    "fit_circle_rate: Coverage of the cervix circle by the cervix. \n",
    "\n",
    "fit_circle_total: Image coverage of the cervix circle. \n",
    "\n",
    "fit_ellipse_rate: Coverage of the cervix ellipse by the cervix. \n",
    "\n",
    "fit_ellipse_total: Image coverage of the cervix ellipse. \n",
    "\n",
    "fit_ellipse_goodness: Goodness of the ellipse fitting. \n",
    "\n",
    "dist_to_center_cervix: Distance between the cervix center and the image center. \n",
    "\n",
    "dist_to_center_os: Distance between the cervical os center and the image center. \n",
    "\n",
    "experts::0: subjective assessment of the Expert 0 (target variable). \n",
    "experts::1: subjective assessment of the Expert 1 (target variable). \n",
    "experts::2: subjective assessment of the Expert 2 (target variable). \n",
    "experts::3: subjective assessment of the Expert 3 (target variable). \n",
    "experts::4: subjective assessment of the Expert 4 (target variable). \n",
    "experts::5: subjective assessment of the Expert 5 (target variable). \n",
    "consensus: subjective assessment of the consensus (target variable)\n"
   ]
  },
  {
   "cell_type": "code",
   "execution_count": 1,
   "metadata": {
    "collapsed": true
   },
   "outputs": [],
   "source": [
    "import numpy as np\n",
    "import matplotlib.pyplot as plt\n",
    "import pandas as pd\n",
    "%matplotlib inline"
   ]
  },
  {
   "cell_type": "markdown",
   "metadata": {},
   "source": [
    "Считывание данных "
   ]
  },
  {
   "cell_type": "code",
   "execution_count": 2,
   "metadata": {
    "collapsed": true
   },
   "outputs": [],
   "source": [
    "data = pd.read_csv('green.csv', sep = ',', engine = 'python')"
   ]
  },
  {
   "cell_type": "markdown",
   "metadata": {},
   "source": [
    "Задаем x и y"
   ]
  },
  {
   "cell_type": "code",
   "execution_count": 4,
   "metadata": {
    "collapsed": true
   },
   "outputs": [],
   "source": [
    "X = data.drop(('consensus'), axis = 1)\n",
    "y = data['consensus']\n",
    "\n",
    "from sklearn import preprocessing\n",
    "le = preprocessing.LabelEncoder()\n",
    "le.fit(y.unique())\n",
    "y_tr = le.transform(y)"
   ]
  },
  {
   "cell_type": "markdown",
   "metadata": {},
   "source": [
    "# Principal Components Analysis (PCA)\n",
    "\n",
    "Изначально у нас размерность признаков равна 62 попробуем ее уменьшить до 31"
   ]
  },
  {
   "cell_type": "code",
   "execution_count": 6,
   "metadata": {},
   "outputs": [
    {
     "data": {
      "text/plain": [
       "(98, 31)"
      ]
     },
     "execution_count": 6,
     "metadata": {},
     "output_type": "execute_result"
    }
   ],
   "source": [
    "from sklearn.decomposition import PCA\n",
    "pca = PCA(n_components = 31)\n",
    "pca.fit(X)\n",
    "pca_x = pca.transform(X)\n",
    "pca_x.shape"
   ]
  },
  {
   "cell_type": "markdown",
   "metadata": {},
   "source": [
    "Разобьем выборку на тестовую и обучаемую"
   ]
  },
  {
   "cell_type": "code",
   "execution_count": 7,
   "metadata": {
    "collapsed": true
   },
   "outputs": [],
   "source": [
    "from sklearn.model_selection import train_test_split\n",
    "X_train, X_test, y_train, y_test = train_test_split(X, y_tr, test_size = 0.33, random_state = 42)"
   ]
  },
  {
   "cell_type": "markdown",
   "metadata": {},
   "source": [
    "Используем классификатор Gradient Boosted Trees с 30 деревьями"
   ]
  },
  {
   "cell_type": "code",
   "execution_count": 8,
   "metadata": {},
   "outputs": [
    {
     "name": "stdout",
     "output_type": "stream",
     "text": [
      "0.0 0.121212121212\n"
     ]
    }
   ],
   "source": [
    "from sklearn.ensemble import GradientBoostingClassifier\n",
    "\n",
    "GBT = GradientBoostingClassifier(n_estimators=30)\n",
    "GBT.fit(X_train, y_train)\n",
    "    \n",
    "y_train_pred = GBT.predict(X_train)\n",
    "y_test_pred = GBT.predict(X_test)\n",
    "     \n",
    "print(np.mean(y_train != y_train_pred), np.mean(y_test != y_test_pred))"
   ]
  },
  {
   "cell_type": "markdown",
   "metadata": {},
   "source": [
    "Исследуем зависимость ошибки в выборках от количества главных компонент.\n",
    "Зададим несколько значений"
   ]
  },
  {
   "cell_type": "code",
   "execution_count": 23,
   "metadata": {},
   "outputs": [],
   "source": [
    "pca_count_array = np.arange(2,35,1)"
   ]
  },
  {
   "cell_type": "code",
   "execution_count": 24,
   "metadata": {
    "collapsed": true
   },
   "outputs": [],
   "source": [
    "test_error_GBT = []\n",
    "train_error_GBT = []\n",
    "\n",
    "for pca_count in pca_count_array:\n",
    "    pca = PCA(n_components = pca_count)\n",
    "    pca.fit(X)\n",
    "    X_pca = pca.transform(X)\n",
    "    \n",
    "    X_train, X_test, y_train, y_test = train_test_split(X_pca, y_tr, test_size = 0.33, random_state = 42)\n",
    "    \n",
    "    GBT = GradientBoostingClassifier(n_estimators=30)\n",
    "    GBT.fit(X_train, y_train)\n",
    "    \n",
    "    y_train_pred = GBT.predict(X_train)\n",
    "    y_test_pred = GBT.predict(X_test)\n",
    "    \n",
    "    train_error_GBT.append(np.mean(y_train != y_train_pred))\n",
    "    test_error_GBT.append(np.mean(y_test != y_test_pred))"
   ]
  },
  {
   "cell_type": "code",
   "execution_count": 25,
   "metadata": {},
   "outputs": [
    {
     "name": "stdout",
     "output_type": "stream",
     "text": [
      "0.0 0.151515151515\n"
     ]
    }
   ],
   "source": [
    "print(np.mean(y_train != y_train_pred), np.mean(y_test != y_test_pred))"
   ]
  },
  {
   "cell_type": "code",
   "execution_count": 26,
   "metadata": {},
   "outputs": [
    {
     "data": {
      "image/png": "[encoded data removed]",
      "text/plain": [
       "<matplotlib.figure.Figure at 0x1ebd67bf828>"
      ]
     },
     "metadata": {},
     "output_type": "display_data"
    }
   ],
   "source": [
    "plt.plot(pca_count_array, train_error_GBT, 'g-o', label = 'train')\n",
    "plt.plot(pca_count_array, test_error_GBT, 'b-o', label = 'test')\n",
    "\n",
    "plt.title('error vs count of components')\n",
    "plt.xlabel('count of components')\n",
    "plt.ylabel('error')\n",
    "plt.legend()\n",
    "pass"
   ]
  },
  {
   "cell_type": "markdown",
   "metadata": {},
   "source": [
    "Смотря на график можно заметить, что изменение числа компонент не влияет на ошибку при обучающей выборке, начиная с pca_count = 10. Про зависимость ошибки от числа компонент на тестовой выборке мало что можно подметить. Ведет себя скочкообразно."
   ]
  },
  {
   "cell_type": "markdown",
   "metadata": {},
   "source": [
    "Минимальные значения ошибок на обучающей и тестовой выборке:"
   ]
  },
  {
   "cell_type": "code",
   "execution_count": 27,
   "metadata": {},
   "outputs": [
    {
     "name": "stdout",
     "output_type": "stream",
     "text": [
      "0.0 0.0606060606061\n"
     ]
    }
   ],
   "source": [
    "min_train_error = np.min(train_error_GBT)\n",
    "min_test_error = np.min(test_error_GBT)\n",
    "print(min_train_error, min_test_error)"
   ]
  },
  {
   "cell_type": "markdown",
   "metadata": {},
   "source": [
    "Найдем число компонент, при котором ошибка на тестовой выборке минимальна "
   ]
  },
  {
   "cell_type": "code",
   "execution_count": 28,
   "metadata": {},
   "outputs": [
    {
     "name": "stdout",
     "output_type": "stream",
     "text": [
      "[33]\n"
     ]
    }
   ],
   "source": [
    "print(pca_count_array[test_error_GBT == min_test_error])"
   ]
  },
  {
   "cell_type": "code",
   "execution_count": null,
   "metadata": {
    "collapsed": true
   },
   "outputs": [],
   "source": []
  }
 ],
 "metadata": {
  "kernelspec": {
   "display_name": "Python 3",
   "language": "python",
   "name": "python3"
  },
  "language_info": {
   "codemirror_mode": {
    "name": "ipython",
    "version": 3
   },
   "file_extension": ".py",
   "mimetype": "text/x-python",
   "name": "python",
   "nbconvert_exporter": "python",
   "pygments_lexer": "ipython3",
   "version": "3.6.1"
  }
 },
 "nbformat": 4,
 "nbformat_minor": 2
}
